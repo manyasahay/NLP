{
  "nbformat": 4,
  "nbformat_minor": 0,
  "metadata": {
    "colab": {
      "provenance": []
    },
    "kernelspec": {
      "name": "python3",
      "display_name": "Python 3"
    },
    "language_info": {
      "name": "python"
    }
  },
  "cells": [
    {
      "cell_type": "code",
      "execution_count": null,
      "metadata": {
        "colab": {
          "base_uri": "https://localhost:8080/",
          "height": 36
        },
        "id": "SaoX32RsYxsT",
        "outputId": "7b0628c5-8999-4135-c1eb-278d21bf81ec"
      },
      "outputs": [
        {
          "output_type": "execute_result",
          "data": {
            "text/plain": [
              "'I HAVE A PEN'"
            ],
            "application/vnd.google.colaboratory.intrinsic+json": {
              "type": "string"
            }
          },
          "metadata": {},
          "execution_count": 5
        }
      ],
      "source": [
        "x = \"i have a pen\"\n",
        "new = x.upper()\n",
        "new"
      ]
    },
    {
      "cell_type": "code",
      "source": [
        "pip install NLTK"
      ],
      "metadata": {
        "colab": {
          "base_uri": "https://localhost:8080/"
        },
        "id": "c4XdowTLZNVH",
        "outputId": "9eba722f-3718-4004-f2f3-a047428417a3"
      },
      "execution_count": null,
      "outputs": [
        {
          "output_type": "stream",
          "name": "stdout",
          "text": [
            "Requirement already satisfied: NLTK in /usr/local/lib/python3.10/dist-packages (3.8.1)\n",
            "Requirement already satisfied: click in /usr/local/lib/python3.10/dist-packages (from NLTK) (8.1.6)\n",
            "Requirement already satisfied: joblib in /usr/local/lib/python3.10/dist-packages (from NLTK) (1.3.1)\n",
            "Requirement already satisfied: regex>=2021.8.3 in /usr/local/lib/python3.10/dist-packages (from NLTK) (2022.10.31)\n",
            "Requirement already satisfied: tqdm in /usr/local/lib/python3.10/dist-packages (from NLTK) (4.65.0)\n"
          ]
        }
      ]
    },
    {
      "cell_type": "code",
      "source": [
        "import nltk"
      ],
      "metadata": {
        "id": "MwwhYV2YZi7V"
      },
      "execution_count": null,
      "outputs": []
    },
    {
      "cell_type": "code",
      "source": [
        "nltk.download()"
      ],
      "metadata": {
        "colab": {
          "base_uri": "https://localhost:8080/"
        },
        "id": "Vvsjdyy0ZmEX",
        "outputId": "e2489254-7ea9-443c-ae57-89ceb52c371d"
      },
      "execution_count": null,
      "outputs": [
        {
          "name": "stdout",
          "output_type": "stream",
          "text": [
            "NLTK Downloader\n",
            "---------------------------------------------------------------------------\n",
            "    d) Download   l) List    u) Update   c) Config   h) Help   q) Quit\n",
            "---------------------------------------------------------------------------\n",
            "Downloader> d\n",
            "\n",
            "Download which package (l=list; x=cancel)?\n",
            "  Identifier> all\n"
          ]
        },
        {
          "output_type": "stream",
          "name": "stderr",
          "text": [
            "    Downloading collection 'all'\n",
            "       | \n",
            "       | Downloading package abc to /root/nltk_data...\n",
            "       |   Unzipping corpora/abc.zip.\n",
            "       | Downloading package alpino to /root/nltk_data...\n",
            "       |   Unzipping corpora/alpino.zip.\n",
            "       | Downloading package averaged_perceptron_tagger to\n",
            "       |     /root/nltk_data...\n",
            "       |   Unzipping taggers/averaged_perceptron_tagger.zip.\n",
            "       | Downloading package averaged_perceptron_tagger_ru to\n",
            "       |     /root/nltk_data...\n",
            "       |   Unzipping taggers/averaged_perceptron_tagger_ru.zip.\n",
            "       | Downloading package basque_grammars to /root/nltk_data...\n",
            "       |   Unzipping grammars/basque_grammars.zip.\n",
            "       | Downloading package bcp47 to /root/nltk_data...\n",
            "       | Downloading package biocreative_ppi to /root/nltk_data...\n",
            "       |   Unzipping corpora/biocreative_ppi.zip.\n",
            "       | Downloading package bllip_wsj_no_aux to /root/nltk_data...\n",
            "       |   Unzipping models/bllip_wsj_no_aux.zip.\n",
            "       | Downloading package book_grammars to /root/nltk_data...\n",
            "       |   Unzipping grammars/book_grammars.zip.\n",
            "       | Downloading package brown to /root/nltk_data...\n",
            "       |   Unzipping corpora/brown.zip.\n",
            "       | Downloading package brown_tei to /root/nltk_data...\n",
            "       |   Unzipping corpora/brown_tei.zip.\n",
            "       | Downloading package cess_cat to /root/nltk_data...\n",
            "       |   Unzipping corpora/cess_cat.zip.\n",
            "       | Downloading package cess_esp to /root/nltk_data...\n",
            "       |   Unzipping corpora/cess_esp.zip.\n",
            "       | Downloading package chat80 to /root/nltk_data...\n",
            "       |   Unzipping corpora/chat80.zip.\n",
            "       | Downloading package city_database to /root/nltk_data...\n",
            "       |   Unzipping corpora/city_database.zip.\n",
            "       | Downloading package cmudict to /root/nltk_data...\n",
            "       |   Unzipping corpora/cmudict.zip.\n",
            "       | Downloading package comparative_sentences to\n",
            "       |     /root/nltk_data...\n",
            "       |   Unzipping corpora/comparative_sentences.zip.\n",
            "       | Downloading package comtrans to /root/nltk_data...\n",
            "       | Downloading package conll2000 to /root/nltk_data...\n",
            "       |   Unzipping corpora/conll2000.zip.\n",
            "       | Downloading package conll2002 to /root/nltk_data...\n",
            "       |   Unzipping corpora/conll2002.zip.\n",
            "       | Downloading package conll2007 to /root/nltk_data...\n",
            "       | Downloading package crubadan to /root/nltk_data...\n",
            "       |   Unzipping corpora/crubadan.zip.\n",
            "       | Downloading package dependency_treebank to /root/nltk_data...\n",
            "       |   Unzipping corpora/dependency_treebank.zip.\n",
            "       | Downloading package dolch to /root/nltk_data...\n",
            "       |   Unzipping corpora/dolch.zip.\n",
            "       | Downloading package europarl_raw to /root/nltk_data...\n",
            "       |   Unzipping corpora/europarl_raw.zip.\n",
            "       | Downloading package extended_omw to /root/nltk_data...\n",
            "       | Downloading package floresta to /root/nltk_data...\n",
            "       |   Unzipping corpora/floresta.zip.\n",
            "       | Downloading package framenet_v15 to /root/nltk_data...\n",
            "       |   Unzipping corpora/framenet_v15.zip.\n",
            "       | Downloading package framenet_v17 to /root/nltk_data...\n",
            "       |   Unzipping corpora/framenet_v17.zip.\n",
            "       | Downloading package gazetteers to /root/nltk_data...\n",
            "       |   Unzipping corpora/gazetteers.zip.\n",
            "       | Downloading package genesis to /root/nltk_data...\n",
            "       |   Unzipping corpora/genesis.zip.\n",
            "       | Downloading package gutenberg to /root/nltk_data...\n",
            "       |   Unzipping corpora/gutenberg.zip.\n",
            "       | Downloading package ieer to /root/nltk_data...\n",
            "       |   Unzipping corpora/ieer.zip.\n",
            "       | Downloading package inaugural to /root/nltk_data...\n",
            "       |   Unzipping corpora/inaugural.zip.\n",
            "       | Downloading package indian to /root/nltk_data...\n",
            "       |   Unzipping corpora/indian.zip.\n",
            "       | Downloading package jeita to /root/nltk_data...\n",
            "       | Downloading package kimmo to /root/nltk_data...\n",
            "       |   Unzipping corpora/kimmo.zip.\n",
            "       | Downloading package knbc to /root/nltk_data...\n",
            "       | Downloading package large_grammars to /root/nltk_data...\n",
            "       |   Unzipping grammars/large_grammars.zip.\n",
            "       | Downloading package lin_thesaurus to /root/nltk_data...\n",
            "       |   Unzipping corpora/lin_thesaurus.zip.\n",
            "       | Downloading package mac_morpho to /root/nltk_data...\n",
            "       |   Unzipping corpora/mac_morpho.zip.\n",
            "       | Downloading package machado to /root/nltk_data...\n",
            "       | Downloading package masc_tagged to /root/nltk_data...\n",
            "       | Downloading package maxent_ne_chunker to /root/nltk_data...\n",
            "       |   Unzipping chunkers/maxent_ne_chunker.zip.\n",
            "       | Downloading package maxent_treebank_pos_tagger to\n",
            "       |     /root/nltk_data...\n",
            "       |   Unzipping taggers/maxent_treebank_pos_tagger.zip.\n",
            "       | Downloading package moses_sample to /root/nltk_data...\n",
            "       |   Unzipping models/moses_sample.zip.\n",
            "       | Downloading package movie_reviews to /root/nltk_data...\n",
            "       |   Unzipping corpora/movie_reviews.zip.\n",
            "       | Downloading package mte_teip5 to /root/nltk_data...\n",
            "       |   Unzipping corpora/mte_teip5.zip.\n",
            "       | Downloading package mwa_ppdb to /root/nltk_data...\n",
            "       |   Unzipping misc/mwa_ppdb.zip.\n",
            "       | Downloading package names to /root/nltk_data...\n",
            "       |   Unzipping corpora/names.zip.\n",
            "       | Downloading package nombank.1.0 to /root/nltk_data...\n",
            "       | Downloading package nonbreaking_prefixes to\n",
            "       |     /root/nltk_data...\n",
            "       |   Unzipping corpora/nonbreaking_prefixes.zip.\n",
            "       | Downloading package nps_chat to /root/nltk_data...\n",
            "       |   Unzipping corpora/nps_chat.zip.\n",
            "       | Downloading package omw to /root/nltk_data...\n",
            "       | Downloading package omw-1.4 to /root/nltk_data...\n",
            "       | Downloading package opinion_lexicon to /root/nltk_data...\n",
            "       |   Unzipping corpora/opinion_lexicon.zip.\n",
            "       | Downloading package panlex_swadesh to /root/nltk_data...\n",
            "       | Downloading package paradigms to /root/nltk_data...\n",
            "       |   Unzipping corpora/paradigms.zip.\n",
            "       | Downloading package pe08 to /root/nltk_data...\n",
            "       |   Unzipping corpora/pe08.zip.\n",
            "       | Downloading package perluniprops to /root/nltk_data...\n",
            "       |   Unzipping misc/perluniprops.zip.\n",
            "       | Downloading package pil to /root/nltk_data...\n",
            "       |   Unzipping corpora/pil.zip.\n",
            "       | Downloading package pl196x to /root/nltk_data...\n",
            "       |   Unzipping corpora/pl196x.zip.\n",
            "       | Downloading package porter_test to /root/nltk_data...\n",
            "       |   Unzipping stemmers/porter_test.zip.\n",
            "       | Downloading package ppattach to /root/nltk_data...\n",
            "       |   Unzipping corpora/ppattach.zip.\n",
            "       | Downloading package problem_reports to /root/nltk_data...\n",
            "       |   Unzipping corpora/problem_reports.zip.\n",
            "       | Downloading package product_reviews_1 to /root/nltk_data...\n",
            "       |   Unzipping corpora/product_reviews_1.zip.\n",
            "       | Downloading package product_reviews_2 to /root/nltk_data...\n",
            "       |   Unzipping corpora/product_reviews_2.zip.\n",
            "       | Downloading package propbank to /root/nltk_data...\n",
            "       | Downloading package pros_cons to /root/nltk_data...\n",
            "       |   Unzipping corpora/pros_cons.zip.\n",
            "       | Downloading package ptb to /root/nltk_data...\n",
            "       |   Unzipping corpora/ptb.zip.\n",
            "       | Downloading package punkt to /root/nltk_data...\n",
            "       |   Unzipping tokenizers/punkt.zip.\n",
            "       | Downloading package qc to /root/nltk_data...\n",
            "       |   Unzipping corpora/qc.zip.\n",
            "       | Downloading package reuters to /root/nltk_data...\n",
            "       | Downloading package rslp to /root/nltk_data...\n",
            "       |   Unzipping stemmers/rslp.zip.\n",
            "       | Downloading package rte to /root/nltk_data...\n",
            "       |   Unzipping corpora/rte.zip.\n",
            "       | Downloading package sample_grammars to /root/nltk_data...\n",
            "       |   Unzipping grammars/sample_grammars.zip.\n",
            "       | Downloading package semcor to /root/nltk_data...\n",
            "       | Downloading package senseval to /root/nltk_data...\n",
            "       |   Unzipping corpora/senseval.zip.\n",
            "       | Downloading package sentence_polarity to /root/nltk_data...\n",
            "       |   Unzipping corpora/sentence_polarity.zip.\n",
            "       | Downloading package sentiwordnet to /root/nltk_data...\n",
            "       |   Unzipping corpora/sentiwordnet.zip.\n",
            "       | Downloading package shakespeare to /root/nltk_data...\n",
            "       |   Unzipping corpora/shakespeare.zip.\n",
            "       | Downloading package sinica_treebank to /root/nltk_data...\n",
            "       |   Unzipping corpora/sinica_treebank.zip.\n",
            "       | Downloading package smultron to /root/nltk_data...\n",
            "       |   Unzipping corpora/smultron.zip.\n",
            "       | Downloading package snowball_data to /root/nltk_data...\n",
            "       | Downloading package spanish_grammars to /root/nltk_data...\n",
            "       |   Unzipping grammars/spanish_grammars.zip.\n",
            "       | Downloading package state_union to /root/nltk_data...\n",
            "       |   Unzipping corpora/state_union.zip.\n",
            "       | Downloading package stopwords to /root/nltk_data...\n",
            "       |   Unzipping corpora/stopwords.zip.\n",
            "       | Downloading package subjectivity to /root/nltk_data...\n",
            "       |   Unzipping corpora/subjectivity.zip.\n",
            "       | Downloading package swadesh to /root/nltk_data...\n",
            "       |   Unzipping corpora/swadesh.zip.\n",
            "       | Downloading package switchboard to /root/nltk_data...\n",
            "       |   Unzipping corpora/switchboard.zip.\n",
            "       | Downloading package tagsets to /root/nltk_data...\n",
            "       |   Unzipping help/tagsets.zip.\n",
            "       | Downloading package timit to /root/nltk_data...\n",
            "       |   Unzipping corpora/timit.zip.\n",
            "       | Downloading package toolbox to /root/nltk_data...\n",
            "       |   Unzipping corpora/toolbox.zip.\n",
            "       | Downloading package treebank to /root/nltk_data...\n",
            "       |   Unzipping corpora/treebank.zip.\n",
            "       | Downloading package twitter_samples to /root/nltk_data...\n",
            "       |   Unzipping corpora/twitter_samples.zip.\n",
            "       | Downloading package udhr to /root/nltk_data...\n",
            "       |   Unzipping corpora/udhr.zip.\n",
            "       | Downloading package udhr2 to /root/nltk_data...\n",
            "       |   Unzipping corpora/udhr2.zip.\n",
            "       | Downloading package unicode_samples to /root/nltk_data...\n",
            "       |   Unzipping corpora/unicode_samples.zip.\n",
            "       | Downloading package universal_tagset to /root/nltk_data...\n",
            "       |   Unzipping taggers/universal_tagset.zip.\n",
            "       | Downloading package universal_treebanks_v20 to\n",
            "       |     /root/nltk_data...\n",
            "       | Downloading package vader_lexicon to /root/nltk_data...\n",
            "       | Downloading package verbnet to /root/nltk_data...\n",
            "       |   Unzipping corpora/verbnet.zip.\n",
            "       | Downloading package verbnet3 to /root/nltk_data...\n",
            "       |   Unzipping corpora/verbnet3.zip.\n",
            "       | Downloading package webtext to /root/nltk_data...\n",
            "       |   Unzipping corpora/webtext.zip.\n",
            "       | Downloading package wmt15_eval to /root/nltk_data...\n",
            "       |   Unzipping models/wmt15_eval.zip.\n",
            "       | Downloading package word2vec_sample to /root/nltk_data...\n",
            "       |   Unzipping models/word2vec_sample.zip.\n",
            "       | Downloading package wordnet to /root/nltk_data...\n",
            "       | Downloading package wordnet2021 to /root/nltk_data...\n",
            "       | Downloading package wordnet2022 to /root/nltk_data...\n",
            "       |   Unzipping corpora/wordnet2022.zip.\n",
            "       | Downloading package wordnet31 to /root/nltk_data...\n",
            "       | Downloading package wordnet_ic to /root/nltk_data...\n",
            "       |   Unzipping corpora/wordnet_ic.zip.\n",
            "       | Downloading package words to /root/nltk_data...\n",
            "       |   Unzipping corpora/words.zip.\n",
            "       | Downloading package ycoe to /root/nltk_data...\n",
            "       |   Unzipping corpora/ycoe.zip.\n",
            "       | \n",
            "     Done downloading collection all\n"
          ]
        },
        {
          "name": "stdout",
          "output_type": "stream",
          "text": [
            "\n",
            "---------------------------------------------------------------------------\n",
            "    d) Download   l) List    u) Update   c) Config   h) Help   q) Quit\n",
            "---------------------------------------------------------------------------\n",
            "Downloader> q\n"
          ]
        },
        {
          "output_type": "execute_result",
          "data": {
            "text/plain": [
              "True"
            ]
          },
          "metadata": {},
          "execution_count": 4
        }
      ]
    },
    {
      "cell_type": "code",
      "source": [
        "x = \"Adolf Hitler (German: [ˈaːdɔlf ˈhɪtlɐ] (listen); 20 April 1889 – 30 April 1945) was an Austrian-born German politician who was the dictator of Germany from 1933 until his suicide in 1945. He rose to power as the leader of the Nazi Party,[a] becoming the chancellor in 1933 and then taking the title of Führer und Reichskanzler in 1934.[b] During his dictatorship, he initiated World War II in Europe by invading Poland on 1 September 1939. He was closely involved in military operations throughout the war and was central to the perpetration of the Holocaust, the genocide of about six million Jews and millions of other victims.\"\n",
        "new = x.upper()\n",
        "print(new)\n"
      ],
      "metadata": {
        "colab": {
          "base_uri": "https://localhost:8080/"
        },
        "id": "LRL8dm68Zo2G",
        "outputId": "45ba64dd-86e4-4ebf-acda-2465c43eef6c"
      },
      "execution_count": null,
      "outputs": [
        {
          "output_type": "stream",
          "name": "stdout",
          "text": [
            "ADOLF HITLER (GERMAN: [ˈAːDƆLF ˈHꞮTLⱯ] (LISTEN); 20 APRIL 1889 – 30 APRIL 1945) WAS AN AUSTRIAN-BORN GERMAN POLITICIAN WHO WAS THE DICTATOR OF GERMANY FROM 1933 UNTIL HIS SUICIDE IN 1945. HE ROSE TO POWER AS THE LEADER OF THE NAZI PARTY,[A] BECOMING THE CHANCELLOR IN 1933 AND THEN TAKING THE TITLE OF FÜHRER UND REICHSKANZLER IN 1934.[B] DURING HIS DICTATORSHIP, HE INITIATED WORLD WAR II IN EUROPE BY INVADING POLAND ON 1 SEPTEMBER 1939. HE WAS CLOSELY INVOLVED IN MILITARY OPERATIONS THROUGHOUT THE WAR AND WAS CENTRAL TO THE PERPETRATION OF THE HOLOCAUST, THE GENOCIDE OF ABOUT SIX MILLION JEWS AND MILLIONS OF OTHER VICTIMS.\n"
          ]
        }
      ]
    },
    {
      "cell_type": "code",
      "source": [
        "lowerc = x.lower()\n",
        "print(lowerc)"
      ],
      "metadata": {
        "colab": {
          "base_uri": "https://localhost:8080/"
        },
        "id": "QbuDAKQUagh_",
        "outputId": "ad2dfc37-eb47-4b85-97f8-945813c79e1d"
      },
      "execution_count": null,
      "outputs": [
        {
          "output_type": "stream",
          "name": "stdout",
          "text": [
            "adolf hitler (german: [ˈaːdɔlf ˈhɪtlɐ] (listen); 20 april 1889 – 30 april 1945) was an austrian-born german politician who was the dictator of germany from 1933 until his suicide in 1945. he rose to power as the leader of the nazi party,[a] becoming the chancellor in 1933 and then taking the title of führer und reichskanzler in 1934.[b] during his dictatorship, he initiated world war ii in europe by invading poland on 1 september 1939. he was closely involved in military operations throughout the war and was central to the perpetration of the holocaust, the genocide of about six million jews and millions of other victims.\n"
          ]
        }
      ]
    },
    {
      "cell_type": "code",
      "source": [
        "from nltk.tokenize import word_tokenize #word tokenization"
      ],
      "metadata": {
        "id": "gYXhsVE2a4Zl"
      },
      "execution_count": null,
      "outputs": []
    },
    {
      "cell_type": "code",
      "source": [
        "text = \" From late 2010, Kim was viewed as the successor to the North Korean leadership. Following his father's death in December 2011, state television announced Kim as the 'Great Successor'. Kim holds the titles of General Secretary of the Workers' Party of Korea[3] and President of the State Affairs. He is also a member of the Presidium of the WPK Politburo, the highest decision-making body in the country. In July 2012, Kim was promoted to the highest rank of Marshal in the Korean People's Army, consolidating his position as Supreme Commander of the Armed Forces. North Korean state media often refer to him as 'Respected Comrade Kim Jong Un' or 'Marshal Kim Jong Un'. He has promoted the policy of byungjin, similar to Kim Il Sung's policy from the 1960s, referring to the simultaneous development of both the economy and the country's nuclear weapons program. He has also revived the structures of the WPK, expanding the party's power in expense of the military leadership.\"\n",
        "tokenized = word_tokenize(text)\n",
        "print(text ,\"tokenized text : \\n\" ,tokenized)"
      ],
      "metadata": {
        "colab": {
          "base_uri": "https://localhost:8080/"
        },
        "id": "4_cnXWQ0bCzT",
        "outputId": "6d410f36-cc2f-45d7-d057-52c8c536006b"
      },
      "execution_count": null,
      "outputs": [
        {
          "output_type": "stream",
          "name": "stdout",
          "text": [
            " From late 2010, Kim was viewed as the successor to the North Korean leadership. Following his father's death in December 2011, state television announced Kim as the 'Great Successor'. Kim holds the titles of General Secretary of the Workers' Party of Korea[3] and President of the State Affairs. He is also a member of the Presidium of the WPK Politburo, the highest decision-making body in the country. In July 2012, Kim was promoted to the highest rank of Marshal in the Korean People's Army, consolidating his position as Supreme Commander of the Armed Forces. North Korean state media often refer to him as 'Respected Comrade Kim Jong Un' or 'Marshal Kim Jong Un'. He has promoted the policy of byungjin, similar to Kim Il Sung's policy from the 1960s, referring to the simultaneous development of both the economy and the country's nuclear weapons program. He has also revived the structures of the WPK, expanding the party's power in expense of the military leadership. tokenized text : \n",
            " ['From', 'late', '2010', ',', 'Kim', 'was', 'viewed', 'as', 'the', 'successor', 'to', 'the', 'North', 'Korean', 'leadership', '.', 'Following', 'his', 'father', \"'s\", 'death', 'in', 'December', '2011', ',', 'state', 'television', 'announced', 'Kim', 'as', 'the', \"'Great\", 'Successor', \"'\", '.', 'Kim', 'holds', 'the', 'titles', 'of', 'General', 'Secretary', 'of', 'the', 'Workers', \"'\", 'Party', 'of', 'Korea', '[', '3', ']', 'and', 'President', 'of', 'the', 'State', 'Affairs', '.', 'He', 'is', 'also', 'a', 'member', 'of', 'the', 'Presidium', 'of', 'the', 'WPK', 'Politburo', ',', 'the', 'highest', 'decision-making', 'body', 'in', 'the', 'country', '.', 'In', 'July', '2012', ',', 'Kim', 'was', 'promoted', 'to', 'the', 'highest', 'rank', 'of', 'Marshal', 'in', 'the', 'Korean', 'People', \"'s\", 'Army', ',', 'consolidating', 'his', 'position', 'as', 'Supreme', 'Commander', 'of', 'the', 'Armed', 'Forces', '.', 'North', 'Korean', 'state', 'media', 'often', 'refer', 'to', 'him', 'as', \"'Respected\", 'Comrade', 'Kim', 'Jong', 'Un', \"'\", 'or', \"'Marshal\", 'Kim', 'Jong', 'Un', \"'\", '.', 'He', 'has', 'promoted', 'the', 'policy', 'of', 'byungjin', ',', 'similar', 'to', 'Kim', 'Il', 'Sung', \"'s\", 'policy', 'from', 'the', '1960s', ',', 'referring', 'to', 'the', 'simultaneous', 'development', 'of', 'both', 'the', 'economy', 'and', 'the', 'country', \"'s\", 'nuclear', 'weapons', 'program', '.', 'He', 'has', 'also', 'revived', 'the', 'structures', 'of', 'the', 'WPK', ',', 'expanding', 'the', 'party', \"'s\", 'power', 'in', 'expense', 'of', 'the', 'military', 'leadership', '.']\n"
          ]
        }
      ]
    },
    {
      "cell_type": "code",
      "source": [
        "from nltk.tokenize import sent_tokenize #sentence tokenization"
      ],
      "metadata": {
        "id": "Bsx8kIkTbgYn"
      },
      "execution_count": null,
      "outputs": []
    },
    {
      "cell_type": "code",
      "source": [
        "tokenized1 = sent_tokenize(text)\n",
        "print(tokenized1)"
      ],
      "metadata": {
        "colab": {
          "base_uri": "https://localhost:8080/"
        },
        "id": "fWDxe00mcugx",
        "outputId": "e94da196-804d-4b52-869c-2c0d84dfa026"
      },
      "execution_count": null,
      "outputs": [
        {
          "output_type": "stream",
          "name": "stdout",
          "text": [
            "[' From late 2010, Kim was viewed as the successor to the North Korean leadership.', \"Following his father's death in December 2011, state television announced Kim as the 'Great Successor'.\", \"Kim holds the titles of General Secretary of the Workers' Party of Korea[3] and President of the State Affairs.\", 'He is also a member of the Presidium of the WPK Politburo, the highest decision-making body in the country.', \"In July 2012, Kim was promoted to the highest rank of Marshal in the Korean People's Army, consolidating his position as Supreme Commander of the Armed Forces.\", \"North Korean state media often refer to him as 'Respected Comrade Kim Jong Un' or 'Marshal Kim Jong Un'.\", \"He has promoted the policy of byungjin, similar to Kim Il Sung's policy from the 1960s, referring to the simultaneous development of both the economy and the country's nuclear weapons program.\", \"He has also revived the structures of the WPK, expanding the party's power in expense of the military leadership.\"]\n"
          ]
        }
      ]
    },
    {
      "cell_type": "code",
      "source": [
        "from nltk.corpus import stopwords #removing stop words"
      ],
      "metadata": {
        "id": "8v9Q5LByc9c5"
      },
      "execution_count": null,
      "outputs": []
    },
    {
      "cell_type": "code",
      "source": [
        "nltk.download('stopwords')"
      ],
      "metadata": {
        "colab": {
          "base_uri": "https://localhost:8080/"
        },
        "id": "Lzc32fFadXp5",
        "outputId": "e288905c-e5ce-4144-e56c-6c5198dac73e"
      },
      "execution_count": null,
      "outputs": [
        {
          "output_type": "stream",
          "name": "stderr",
          "text": [
            "[nltk_data] Downloading package stopwords to /root/nltk_data...\n",
            "[nltk_data]   Package stopwords is already up-to-date!\n"
          ]
        },
        {
          "output_type": "execute_result",
          "data": {
            "text/plain": [
              "True"
            ]
          },
          "metadata": {},
          "execution_count": 24
        }
      ]
    },
    {
      "cell_type": "code",
      "source": [
        "from nltk.corpus import stopwords"
      ],
      "metadata": {
        "id": "AN3CDlAVje8a"
      },
      "execution_count": null,
      "outputs": []
    },
    {
      "cell_type": "code",
      "source": [
        "removed_stops = set(stopwords.words('english'))\n"
      ],
      "metadata": {
        "id": "7-lHjivldciB"
      },
      "execution_count": null,
      "outputs": []
    },
    {
      "cell_type": "code",
      "source": [
        "filtered_sentences = []\n",
        "for w in tokenized:\n",
        "  if w not in removed_stops:\n",
        "    filtered_sentences.append(w)\n",
        "\n",
        "print(filtered_sentences)\n",
        "\n",
        "\n"
      ],
      "metadata": {
        "colab": {
          "base_uri": "https://localhost:8080/"
        },
        "id": "3cxxDT43dm25",
        "outputId": "18afc332-caea-4447-e6eb-da73ee6b03fe"
      },
      "execution_count": null,
      "outputs": [
        {
          "output_type": "stream",
          "name": "stdout",
          "text": [
            "['From', 'late', '2010', ',', 'Kim', 'viewed', 'successor', 'North', 'Korean', 'leadership', '.', 'Following', 'father', \"'s\", 'death', 'December', '2011', ',', 'state', 'television', 'announced', 'Kim', \"'Great\", 'Successor', \"'\", '.', 'Kim', 'holds', 'titles', 'General', 'Secretary', 'Workers', \"'\", 'Party', 'Korea', '[', '3', ']', 'President', 'State', 'Affairs', '.', 'He', 'also', 'member', 'Presidium', 'WPK', 'Politburo', ',', 'highest', 'decision-making', 'body', 'country', '.', 'In', 'July', '2012', ',', 'Kim', 'promoted', 'highest', 'rank', 'Marshal', 'Korean', 'People', \"'s\", 'Army', ',', 'consolidating', 'position', 'Supreme', 'Commander', 'Armed', 'Forces', '.', 'North', 'Korean', 'state', 'media', 'often', 'refer', \"'Respected\", 'Comrade', 'Kim', 'Jong', 'Un', \"'\", \"'Marshal\", 'Kim', 'Jong', 'Un', \"'\", '.', 'He', 'promoted', 'policy', 'byungjin', ',', 'similar', 'Kim', 'Il', 'Sung', \"'s\", 'policy', '1960s', ',', 'referring', 'simultaneous', 'development', 'economy', 'country', \"'s\", 'nuclear', 'weapons', 'program', '.', 'He', 'also', 'revived', 'structures', 'WPK', ',', 'expanding', 'party', \"'s\", 'power', 'expense', 'military', 'leadership', '.']\n"
          ]
        }
      ]
    },
    {
      "cell_type": "code",
      "source": [
        "from nltk.tokenize import RegexpTokenizer  #removing punctuation marks\n",
        "\n",
        "tokenizer1 = RegexpTokenizer(r'\\w+')\n"
      ],
      "metadata": {
        "id": "OwDEQubSe9gh"
      },
      "execution_count": null,
      "outputs": []
    },
    {
      "cell_type": "code",
      "source": [
        "tokenizer1.tokenize(text)"
      ],
      "metadata": {
        "colab": {
          "base_uri": "https://localhost:8080/"
        },
        "id": "2aBR8MFPgSCQ",
        "outputId": "d1d9a05f-1ff7-4570-d2f9-5d860755f290"
      },
      "execution_count": null,
      "outputs": [
        {
          "output_type": "execute_result",
          "data": {
            "text/plain": [
              "['From',\n",
              " 'late',\n",
              " '2010',\n",
              " 'Kim',\n",
              " 'was',\n",
              " 'viewed',\n",
              " 'as',\n",
              " 'the',\n",
              " 'successor',\n",
              " 'to',\n",
              " 'the',\n",
              " 'North',\n",
              " 'Korean',\n",
              " 'leadership',\n",
              " 'Following',\n",
              " 'his',\n",
              " 'father',\n",
              " 's',\n",
              " 'death',\n",
              " 'in',\n",
              " 'December',\n",
              " '2011',\n",
              " 'state',\n",
              " 'television',\n",
              " 'announced',\n",
              " 'Kim',\n",
              " 'as',\n",
              " 'the',\n",
              " 'Great',\n",
              " 'Successor',\n",
              " 'Kim',\n",
              " 'holds',\n",
              " 'the',\n",
              " 'titles',\n",
              " 'of',\n",
              " 'General',\n",
              " 'Secretary',\n",
              " 'of',\n",
              " 'the',\n",
              " 'Workers',\n",
              " 'Party',\n",
              " 'of',\n",
              " 'Korea',\n",
              " '3',\n",
              " 'and',\n",
              " 'President',\n",
              " 'of',\n",
              " 'the',\n",
              " 'State',\n",
              " 'Affairs',\n",
              " 'He',\n",
              " 'is',\n",
              " 'also',\n",
              " 'a',\n",
              " 'member',\n",
              " 'of',\n",
              " 'the',\n",
              " 'Presidium',\n",
              " 'of',\n",
              " 'the',\n",
              " 'WPK',\n",
              " 'Politburo',\n",
              " 'the',\n",
              " 'highest',\n",
              " 'decision',\n",
              " 'making',\n",
              " 'body',\n",
              " 'in',\n",
              " 'the',\n",
              " 'country',\n",
              " 'In',\n",
              " 'July',\n",
              " '2012',\n",
              " 'Kim',\n",
              " 'was',\n",
              " 'promoted',\n",
              " 'to',\n",
              " 'the',\n",
              " 'highest',\n",
              " 'rank',\n",
              " 'of',\n",
              " 'Marshal',\n",
              " 'in',\n",
              " 'the',\n",
              " 'Korean',\n",
              " 'People',\n",
              " 's',\n",
              " 'Army',\n",
              " 'consolidating',\n",
              " 'his',\n",
              " 'position',\n",
              " 'as',\n",
              " 'Supreme',\n",
              " 'Commander',\n",
              " 'of',\n",
              " 'the',\n",
              " 'Armed',\n",
              " 'Forces',\n",
              " 'North',\n",
              " 'Korean',\n",
              " 'state',\n",
              " 'media',\n",
              " 'often',\n",
              " 'refer',\n",
              " 'to',\n",
              " 'him',\n",
              " 'as',\n",
              " 'Respected',\n",
              " 'Comrade',\n",
              " 'Kim',\n",
              " 'Jong',\n",
              " 'Un',\n",
              " 'or',\n",
              " 'Marshal',\n",
              " 'Kim',\n",
              " 'Jong',\n",
              " 'Un',\n",
              " 'He',\n",
              " 'has',\n",
              " 'promoted',\n",
              " 'the',\n",
              " 'policy',\n",
              " 'of',\n",
              " 'byungjin',\n",
              " 'similar',\n",
              " 'to',\n",
              " 'Kim',\n",
              " 'Il',\n",
              " 'Sung',\n",
              " 's',\n",
              " 'policy',\n",
              " 'from',\n",
              " 'the',\n",
              " '1960s',\n",
              " 'referring',\n",
              " 'to',\n",
              " 'the',\n",
              " 'simultaneous',\n",
              " 'development',\n",
              " 'of',\n",
              " 'both',\n",
              " 'the',\n",
              " 'economy',\n",
              " 'and',\n",
              " 'the',\n",
              " 'country',\n",
              " 's',\n",
              " 'nuclear',\n",
              " 'weapons',\n",
              " 'program',\n",
              " 'He',\n",
              " 'has',\n",
              " 'also',\n",
              " 'revived',\n",
              " 'the',\n",
              " 'structures',\n",
              " 'of',\n",
              " 'the',\n",
              " 'WPK',\n",
              " 'expanding',\n",
              " 'the',\n",
              " 'party',\n",
              " 's',\n",
              " 'power',\n",
              " 'in',\n",
              " 'expense',\n",
              " 'of',\n",
              " 'the',\n",
              " 'military',\n",
              " 'leadership']"
            ]
          },
          "metadata": {},
          "execution_count": 30
        }
      ]
    },
    {
      "cell_type": "code",
      "source": [
        "from nltk.stem import PorterStemmer #stemming"
      ],
      "metadata": {
        "id": "JNP-xxSngXzx"
      },
      "execution_count": null,
      "outputs": []
    },
    {
      "cell_type": "code",
      "source": [
        "ps = PorterStemmer()"
      ],
      "metadata": {
        "id": "7l2-GwjOgwsV"
      },
      "execution_count": null,
      "outputs": []
    },
    {
      "cell_type": "code",
      "source": [
        "for w in filtered_sentences:\n",
        "  print(w, \" : \", ps.stem(w))"
      ],
      "metadata": {
        "colab": {
          "base_uri": "https://localhost:8080/"
        },
        "id": "Sa9K28ewg5c3",
        "outputId": "d0ca1157-8109-4edf-e6b9-61017f4d4f5c"
      },
      "execution_count": null,
      "outputs": [
        {
          "output_type": "stream",
          "name": "stdout",
          "text": [
            "From  :  from\n",
            "late  :  late\n",
            "2010  :  2010\n",
            ",  :  ,\n",
            "Kim  :  kim\n",
            "viewed  :  view\n",
            "successor  :  successor\n",
            "North  :  north\n",
            "Korean  :  korean\n",
            "leadership  :  leadership\n",
            ".  :  .\n",
            "Following  :  follow\n",
            "father  :  father\n",
            "'s  :  's\n",
            "death  :  death\n",
            "December  :  decemb\n",
            "2011  :  2011\n",
            ",  :  ,\n",
            "state  :  state\n",
            "television  :  televis\n",
            "announced  :  announc\n",
            "Kim  :  kim\n",
            "'Great  :  'great\n",
            "Successor  :  successor\n",
            "'  :  '\n",
            ".  :  .\n",
            "Kim  :  kim\n",
            "holds  :  hold\n",
            "titles  :  titl\n",
            "General  :  gener\n",
            "Secretary  :  secretari\n",
            "Workers  :  worker\n",
            "'  :  '\n",
            "Party  :  parti\n",
            "Korea  :  korea\n",
            "[  :  [\n",
            "3  :  3\n",
            "]  :  ]\n",
            "President  :  presid\n",
            "State  :  state\n",
            "Affairs  :  affair\n",
            ".  :  .\n",
            "He  :  he\n",
            "also  :  also\n",
            "member  :  member\n",
            "Presidium  :  presidium\n",
            "WPK  :  wpk\n",
            "Politburo  :  politburo\n",
            ",  :  ,\n",
            "highest  :  highest\n",
            "decision-making  :  decision-mak\n",
            "body  :  bodi\n",
            "country  :  countri\n",
            ".  :  .\n",
            "In  :  in\n",
            "July  :  juli\n",
            "2012  :  2012\n",
            ",  :  ,\n",
            "Kim  :  kim\n",
            "promoted  :  promot\n",
            "highest  :  highest\n",
            "rank  :  rank\n",
            "Marshal  :  marshal\n",
            "Korean  :  korean\n",
            "People  :  peopl\n",
            "'s  :  's\n",
            "Army  :  armi\n",
            ",  :  ,\n",
            "consolidating  :  consolid\n",
            "position  :  posit\n",
            "Supreme  :  suprem\n",
            "Commander  :  command\n",
            "Armed  :  arm\n",
            "Forces  :  forc\n",
            ".  :  .\n",
            "North  :  north\n",
            "Korean  :  korean\n",
            "state  :  state\n",
            "media  :  media\n",
            "often  :  often\n",
            "refer  :  refer\n",
            "'Respected  :  'respect\n",
            "Comrade  :  comrad\n",
            "Kim  :  kim\n",
            "Jong  :  jong\n",
            "Un  :  un\n",
            "'  :  '\n",
            "'Marshal  :  'marshal\n",
            "Kim  :  kim\n",
            "Jong  :  jong\n",
            "Un  :  un\n",
            "'  :  '\n",
            ".  :  .\n",
            "He  :  he\n",
            "promoted  :  promot\n",
            "policy  :  polici\n",
            "byungjin  :  byungjin\n",
            ",  :  ,\n",
            "similar  :  similar\n",
            "Kim  :  kim\n",
            "Il  :  il\n",
            "Sung  :  sung\n",
            "'s  :  's\n",
            "policy  :  polici\n",
            "1960s  :  1960\n",
            ",  :  ,\n",
            "referring  :  refer\n",
            "simultaneous  :  simultan\n",
            "development  :  develop\n",
            "economy  :  economi\n",
            "country  :  countri\n",
            "'s  :  's\n",
            "nuclear  :  nuclear\n",
            "weapons  :  weapon\n",
            "program  :  program\n",
            ".  :  .\n",
            "He  :  he\n",
            "also  :  also\n",
            "revived  :  reviv\n",
            "structures  :  structur\n",
            "WPK  :  wpk\n",
            ",  :  ,\n",
            "expanding  :  expand\n",
            "party  :  parti\n",
            "'s  :  's\n",
            "power  :  power\n",
            "expense  :  expens\n",
            "military  :  militari\n",
            "leadership  :  leadership\n",
            ".  :  .\n"
          ]
        }
      ]
    },
    {
      "cell_type": "code",
      "source": [
        "from nltk.stem import WordNetLemmatizer #lemmatization"
      ],
      "metadata": {
        "id": "bp2CFdxxhCTN"
      },
      "execution_count": null,
      "outputs": []
    },
    {
      "cell_type": "code",
      "source": [
        "lemmatizer = WordNetLemmatizer()"
      ],
      "metadata": {
        "id": "n507yVoDhftm"
      },
      "execution_count": null,
      "outputs": []
    },
    {
      "cell_type": "code",
      "source": [
        "for w in filtered_sentences:\n",
        "  print(w, \" : \" ,lemmatizer.lemmatize(w))"
      ],
      "metadata": {
        "colab": {
          "base_uri": "https://localhost:8080/"
        },
        "id": "YebDOqHehisl",
        "outputId": "59b0c3f7-9926-4636-f1f6-535312f89af4"
      },
      "execution_count": null,
      "outputs": [
        {
          "output_type": "stream",
          "name": "stdout",
          "text": [
            "From  :  From\n",
            "late  :  late\n",
            "2010  :  2010\n",
            ",  :  ,\n",
            "Kim  :  Kim\n",
            "viewed  :  viewed\n",
            "successor  :  successor\n",
            "North  :  North\n",
            "Korean  :  Korean\n",
            "leadership  :  leadership\n",
            ".  :  .\n",
            "Following  :  Following\n",
            "father  :  father\n",
            "'s  :  's\n",
            "death  :  death\n",
            "December  :  December\n",
            "2011  :  2011\n",
            ",  :  ,\n",
            "state  :  state\n",
            "television  :  television\n",
            "announced  :  announced\n",
            "Kim  :  Kim\n",
            "'Great  :  'Great\n",
            "Successor  :  Successor\n",
            "'  :  '\n",
            ".  :  .\n",
            "Kim  :  Kim\n",
            "holds  :  hold\n",
            "titles  :  title\n",
            "General  :  General\n",
            "Secretary  :  Secretary\n",
            "Workers  :  Workers\n",
            "'  :  '\n",
            "Party  :  Party\n",
            "Korea  :  Korea\n",
            "[  :  [\n",
            "3  :  3\n",
            "]  :  ]\n",
            "President  :  President\n",
            "State  :  State\n",
            "Affairs  :  Affairs\n",
            ".  :  .\n",
            "He  :  He\n",
            "also  :  also\n",
            "member  :  member\n",
            "Presidium  :  Presidium\n",
            "WPK  :  WPK\n",
            "Politburo  :  Politburo\n",
            ",  :  ,\n",
            "highest  :  highest\n",
            "decision-making  :  decision-making\n",
            "body  :  body\n",
            "country  :  country\n",
            ".  :  .\n",
            "In  :  In\n",
            "July  :  July\n",
            "2012  :  2012\n",
            ",  :  ,\n",
            "Kim  :  Kim\n",
            "promoted  :  promoted\n",
            "highest  :  highest\n",
            "rank  :  rank\n",
            "Marshal  :  Marshal\n",
            "Korean  :  Korean\n",
            "People  :  People\n",
            "'s  :  's\n",
            "Army  :  Army\n",
            ",  :  ,\n",
            "consolidating  :  consolidating\n",
            "position  :  position\n",
            "Supreme  :  Supreme\n",
            "Commander  :  Commander\n",
            "Armed  :  Armed\n",
            "Forces  :  Forces\n",
            ".  :  .\n",
            "North  :  North\n",
            "Korean  :  Korean\n",
            "state  :  state\n",
            "media  :  medium\n",
            "often  :  often\n",
            "refer  :  refer\n",
            "'Respected  :  'Respected\n",
            "Comrade  :  Comrade\n",
            "Kim  :  Kim\n",
            "Jong  :  Jong\n",
            "Un  :  Un\n",
            "'  :  '\n",
            "'Marshal  :  'Marshal\n",
            "Kim  :  Kim\n",
            "Jong  :  Jong\n",
            "Un  :  Un\n",
            "'  :  '\n",
            ".  :  .\n",
            "He  :  He\n",
            "promoted  :  promoted\n",
            "policy  :  policy\n",
            "byungjin  :  byungjin\n",
            ",  :  ,\n",
            "similar  :  similar\n",
            "Kim  :  Kim\n",
            "Il  :  Il\n",
            "Sung  :  Sung\n",
            "'s  :  's\n",
            "policy  :  policy\n",
            "1960s  :  1960s\n",
            ",  :  ,\n",
            "referring  :  referring\n",
            "simultaneous  :  simultaneous\n",
            "development  :  development\n",
            "economy  :  economy\n",
            "country  :  country\n",
            "'s  :  's\n",
            "nuclear  :  nuclear\n",
            "weapons  :  weapon\n",
            "program  :  program\n",
            ".  :  .\n",
            "He  :  He\n",
            "also  :  also\n",
            "revived  :  revived\n",
            "structures  :  structure\n",
            "WPK  :  WPK\n",
            ",  :  ,\n",
            "expanding  :  expanding\n",
            "party  :  party\n",
            "'s  :  's\n",
            "power  :  power\n",
            "expense  :  expense\n",
            "military  :  military\n",
            "leadership  :  leadership\n",
            ".  :  .\n"
          ]
        }
      ]
    },
    {
      "cell_type": "code",
      "source": [
        "tagged = nltk.pos_tag(filtered_sentences)\n",
        "print(tagged)"
      ],
      "metadata": {
        "colab": {
          "base_uri": "https://localhost:8080/"
        },
        "id": "0yPJqhDto_q_",
        "outputId": "ce55ee66-f2b6-4acc-8a15-127f9ffb1684"
      },
      "execution_count": null,
      "outputs": [
        {
          "output_type": "stream",
          "name": "stdout",
          "text": [
            "[('From', 'IN'), ('late', 'JJ'), ('2010', 'CD'), (',', ','), ('Kim', 'NNP'), ('viewed', 'VBD'), ('successor', 'JJ'), ('North', 'JJ'), ('Korean', 'JJ'), ('leadership', 'NN'), ('.', '.'), ('Following', 'VBG'), ('father', 'NN'), (\"'s\", 'POS'), ('death', 'NN'), ('December', 'NNP'), ('2011', 'CD'), (',', ','), ('state', 'NN'), ('television', 'NN'), ('announced', 'VBD'), ('Kim', 'NNP'), (\"'Great\", 'NNP'), ('Successor', 'NNP'), (\"'\", 'POS'), ('.', '.'), ('Kim', 'NNP'), ('holds', 'VBZ'), ('titles', 'NNS'), ('General', 'NNP'), ('Secretary', 'NNP'), ('Workers', 'NNP'), (\"'\", 'POS'), ('Party', 'NNP'), ('Korea', 'NNP'), ('[', 'VBD'), ('3', 'CD'), (']', 'NNP'), ('President', 'NNP'), ('State', 'NNP'), ('Affairs', 'NNPS'), ('.', '.'), ('He', 'PRP'), ('also', 'RB'), ('member', 'NN'), ('Presidium', 'NNP'), ('WPK', 'NNP'), ('Politburo', 'NNP'), (',', ','), ('highest', 'JJS'), ('decision-making', 'JJ'), ('body', 'NN'), ('country', 'NN'), ('.', '.'), ('In', 'IN'), ('July', 'NNP'), ('2012', 'CD'), (',', ','), ('Kim', 'NNP'), ('promoted', 'VBD'), ('highest', 'JJS'), ('rank', 'NN'), ('Marshal', 'JJ'), ('Korean', 'JJ'), ('People', 'NNP'), (\"'s\", 'POS'), ('Army', 'NNP'), (',', ','), ('consolidating', 'VBG'), ('position', 'NN'), ('Supreme', 'NNP'), ('Commander', 'NNP'), ('Armed', 'NNP'), ('Forces', 'NNP'), ('.', '.'), ('North', 'JJ'), ('Korean', 'JJ'), ('state', 'NN'), ('media', 'NNS'), ('often', 'RB'), ('refer', 'VBP'), (\"'Respected\", 'VBN'), ('Comrade', 'NNP'), ('Kim', 'NNP'), ('Jong', 'NNP'), ('Un', 'NNP'), (\"'\", 'POS'), (\"'Marshal\", 'POS'), ('Kim', 'NNP'), ('Jong', 'NNP'), ('Un', 'NNP'), (\"'\", 'POS'), ('.', '.'), ('He', 'PRP'), ('promoted', 'VBD'), ('policy', 'NN'), ('byungjin', 'NN'), (',', ','), ('similar', 'JJ'), ('Kim', 'NNP'), ('Il', 'NNP'), ('Sung', 'NNP'), (\"'s\", 'POS'), ('policy', 'NN'), ('1960s', 'CD'), (',', ','), ('referring', 'VBG'), ('simultaneous', 'JJ'), ('development', 'NN'), ('economy', 'NN'), ('country', 'NN'), (\"'s\", 'POS'), ('nuclear', 'JJ'), ('weapons', 'NNS'), ('program', 'NN'), ('.', '.'), ('He', 'PRP'), ('also', 'RB'), ('revived', 'VBD'), ('structures', 'NNS'), ('WPK', 'NNP'), (',', ','), ('expanding', 'VBG'), ('party', 'NN'), (\"'s\", 'POS'), ('power', 'NN'), ('expense', 'NN'), ('military', 'JJ'), ('leadership', 'NN'), ('.', '.')]\n"
          ]
        }
      ]
    },
    {
      "cell_type": "code",
      "source": [
        "#tokenization without nltk\n",
        "text1 = \"\"\" Tesla, Inc. is an American automotive and energy company based in PAlo Alto, California. The company specializes in electric car manufacturing and, through its SolarCity subsidiary, solar panel manufacturing. \"\"\"\n",
        "data = text1.split('.')\n",
        "\n",
        "for i in data:\n",
        "    print (i)"
      ],
      "metadata": {
        "colab": {
          "base_uri": "https://localhost:8080/"
        },
        "id": "730UgkCxhvJ9",
        "outputId": "cb3ff40e-004a-4b5e-de1f-d81ba46ab4f6"
      },
      "execution_count": null,
      "outputs": [
        {
          "output_type": "stream",
          "name": "stdout",
          "text": [
            " Tesla, Inc\n",
            " is an American automotive and energy company based in PAlo Alto, California\n",
            " The company specializes in electric car manufacturing and, through its SolarCity subsidiary, solar panel manufacturing\n",
            " \n"
          ]
        }
      ]
    },
    {
      "cell_type": "code",
      "source": [
        "data1 = text1.split()\n",
        "data1"
      ],
      "metadata": {
        "id": "7YI4Nw0FqtMk",
        "outputId": "852955f3-e4a7-47b7-9876-e523c4a84607",
        "colab": {
          "base_uri": "https://localhost:8080/"
        }
      },
      "execution_count": null,
      "outputs": [
        {
          "output_type": "execute_result",
          "data": {
            "text/plain": [
              "['Tesla,',\n",
              " 'Inc.',\n",
              " 'is',\n",
              " 'an',\n",
              " 'American',\n",
              " 'automotive',\n",
              " 'and',\n",
              " 'energy',\n",
              " 'company',\n",
              " 'based',\n",
              " 'in',\n",
              " 'PAlo',\n",
              " 'Alto,',\n",
              " 'California.',\n",
              " 'The',\n",
              " 'company',\n",
              " 'specializes',\n",
              " 'in',\n",
              " 'electric',\n",
              " 'car',\n",
              " 'manufacturing',\n",
              " 'and,',\n",
              " 'through',\n",
              " 'its',\n",
              " 'SolarCity',\n",
              " 'subsidiary,',\n",
              " 'solar',\n",
              " 'panel',\n",
              " 'manufacturing.']"
            ]
          },
          "metadata": {},
          "execution_count": 51
        }
      ]
    },
    {
      "cell_type": "markdown",
      "source": [
        "Difference between stemming and lemmatization :\n",
        "Both find the root word however, lemmatization makes sure it's meaning exists in the dictionary whereas stemming often results in incomplete words or words with no meaning.\n",
        "Stemming is quicker, lemmatization is more time comsuming as it searches for the meaning of the root word obtained."
      ],
      "metadata": {
        "id": "7MbxLcWkpPmO"
      }
    },
    {
      "cell_type": "code",
      "source": [
        "from nltk import FreqDist #frequency of words"
      ],
      "metadata": {
        "id": "86Mp-DDzoc28"
      },
      "execution_count": null,
      "outputs": []
    },
    {
      "cell_type": "code",
      "source": [
        "words = text.split()\n",
        "fdist1 = FreqDist(words)\n",
        "print(fdist1)\n",
        "print(fdist1.most_common())"
      ],
      "metadata": {
        "colab": {
          "base_uri": "https://localhost:8080/"
        },
        "id": "C_WWJOrep4zF",
        "outputId": "db1242eb-1288-40b5-a07b-e3cb018346de"
      },
      "execution_count": null,
      "outputs": [
        {
          "output_type": "stream",
          "name": "stdout",
          "text": [
            "<FreqDist with 99 samples and 163 outcomes>\n",
            "[('the', 22), ('of', 12), ('Kim', 7), ('to', 5), ('as', 4), ('in', 4), ('Korean', 3), ('He', 3), ('was', 2), ('North', 2), ('leadership.', 2), ('his', 2), ('state', 2), ('and', 2), ('also', 2), ('highest', 2), ('promoted', 2), ('Jong', 2), ('has', 2), ('policy', 2), ('From', 1), ('late', 1), ('2010,', 1), ('viewed', 1), ('successor', 1), ('Following', 1), (\"father's\", 1), ('death', 1), ('December', 1), ('2011,', 1), ('television', 1), ('announced', 1), (\"'Great\", 1), (\"Successor'.\", 1), ('holds', 1), ('titles', 1), ('General', 1), ('Secretary', 1), (\"Workers'\", 1), ('Party', 1), ('Korea[3]', 1), ('President', 1), ('State', 1), ('Affairs.', 1), ('is', 1), ('a', 1), ('member', 1), ('Presidium', 1), ('WPK', 1), ('Politburo,', 1), ('decision-making', 1), ('body', 1), ('country.', 1), ('In', 1), ('July', 1), ('2012,', 1), ('rank', 1), ('Marshal', 1), (\"People's\", 1), ('Army,', 1), ('consolidating', 1), ('position', 1), ('Supreme', 1), ('Commander', 1), ('Armed', 1), ('Forces.', 1), ('media', 1), ('often', 1), ('refer', 1), ('him', 1), (\"'Respected\", 1), ('Comrade', 1), (\"Un'\", 1), ('or', 1), (\"'Marshal\", 1), (\"Un'.\", 1), ('byungjin,', 1), ('similar', 1), ('Il', 1), (\"Sung's\", 1), ('from', 1), ('1960s,', 1), ('referring', 1), ('simultaneous', 1), ('development', 1), ('both', 1), ('economy', 1), (\"country's\", 1), ('nuclear', 1), ('weapons', 1), ('program.', 1), ('revived', 1), ('structures', 1), ('WPK,', 1), ('expanding', 1), (\"party's\", 1), ('power', 1), ('expense', 1), ('military', 1)]\n"
          ]
        }
      ]
    },
    {
      "cell_type": "code",
      "source": [],
      "metadata": {
        "id": "OX_re_g4p8YV"
      },
      "execution_count": null,
      "outputs": []
    }
  ]
}