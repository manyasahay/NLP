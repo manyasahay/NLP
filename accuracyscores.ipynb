{
  "nbformat": 4,
  "nbformat_minor": 0,
  "metadata": {
    "colab": {
      "provenance": []
    },
    "kernelspec": {
      "name": "python3",
      "display_name": "Python 3"
    },
    "language_info": {
      "name": "python"
    }
  },
  "cells": [
    {
      "cell_type": "code",
      "execution_count": null,
      "metadata": {
        "id": "ln5twrCt-zwx"
      },
      "outputs": [],
      "source": [
        "import nltk\n",
        "from sklearn.feature_extraction.text import TfidfVectorizer\n",
        "from sklearn.neighbors import KNeighborsClassifier\n",
        "from sklearn.metrics import accuracy_score, classification_report\n",
        "from sklearn.model_selection import train_test_split"
      ]
    },
    {
      "cell_type": "code",
      "source": [
        "from nltk.corpus import movie_reviews\n",
        "positive_fileids = movie_reviews.fileids('pos')\n",
        "negative_fileids = movie_reviews.fileids('neg')"
      ],
      "metadata": {
        "id": "4iaVpfj6-1wz"
      },
      "execution_count": null,
      "outputs": []
    },
    {
      "cell_type": "code",
      "source": [
        "texts = []\n",
        "labels = []\n",
        "\n",
        "for file_id in positive_fileids:\n",
        "    words = movie_reviews.words(file_id)\n",
        "    text = ' '.join(words)\n",
        "    texts.append(text)\n",
        "    labels.append(1)\n",
        "\n",
        "for file_id in negative_fileids:\n",
        "    words = movie_reviews.words(file_id)\n",
        "    text = ' '.join(words)\n",
        "    texts.append(text)\n",
        "    labels.append(0)"
      ],
      "metadata": {
        "id": "ymelvfH8-12s"
      },
      "execution_count": null,
      "outputs": []
    },
    {
      "cell_type": "code",
      "source": [
        "train_texts, test_texts, train_labels, test_labels = train_test_split(texts, labels, test_size=0.2, random_state=42)\n",
        "\n",
        "tfidf_vectorizer = TfidfVectorizer(max_features=5000)\n",
        "train_matrix = tfidf_vectorizer.fit_transform(train_texts)\n",
        "test_matrix = tfidf_vectorizer.transform(test_texts)"
      ],
      "metadata": {
        "id": "JLAl9XR9EHT4"
      },
      "execution_count": null,
      "outputs": []
    },
    {
      "cell_type": "code",
      "source": [
        "knn = KNeighborsClassifier(n_neighbors=5)\n",
        "knn.fit(train_matrix, train_labels)\n",
        "\n",
        "predictions = knn.predict(test_matrix)"
      ],
      "metadata": {
        "id": "0ihNvZsEEaGw"
      },
      "execution_count": null,
      "outputs": []
    },
    {
      "cell_type": "code",
      "source": [
        "accuracy = accuracy_score(test_labels, predictions)\n",
        "report = classification_report(test_labels, predictions)\n",
        "\n",
        "print(\"Accuracy:\", accuracy)\n",
        "print(\"Report :\", report)"
      ],
      "metadata": {
        "colab": {
          "base_uri": "https://localhost:8080/"
        },
        "id": "oNMbx9HA_HrQ",
        "outputId": "732c5c98-8069-4951-8d16-f55b2be17d97"
      },
      "execution_count": null,
      "outputs": [
        {
          "output_type": "stream",
          "name": "stdout",
          "text": [
            "Accuracy: 0.5925\n",
            "Report :               precision    recall  f1-score   support\n",
            "\n",
            "           0       0.74      0.29      0.42       201\n",
            "           1       0.56      0.89      0.69       199\n",
            "\n",
            "    accuracy                           0.59       400\n",
            "   macro avg       0.65      0.59      0.55       400\n",
            "weighted avg       0.65      0.59      0.55       400\n",
            "\n"
          ]
        }
      ]
    }
  ]
}